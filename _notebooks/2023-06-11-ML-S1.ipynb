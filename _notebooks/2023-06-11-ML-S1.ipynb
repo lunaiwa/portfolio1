{
 "cells": [
  {
   "attachments": {},
   "cell_type": "markdown",
   "metadata": {},
   "source": [
    "---\n",
    "toc: true\n",
    "comments: true\n",
    "layout: post\n",
    "title: Machine Learning | Section 1\n",
    "description: Introduction to the course and essential information\n",
    "---"
   ]
  },
  {
   "attachments": {},
   "cell_type": "markdown",
   "metadata": {},
   "source": [
    "## Objectives\n",
    "\n",
    "> Give examples of Machine Learning, demonstrate the Python Libraries for Machine Learning, classify Supervised vs. Unsupervised algorithms"
   ]
  },
  {
   "attachments": {},
   "cell_type": "markdown",
   "metadata": {},
   "source": [
    "## Skills\n",
    "\n",
    "- Regression\n",
    "\n",
    "- Classification\n",
    "\n",
    "- Clustering\n",
    "\n",
    "- Scikit Learn\n",
    "\n",
    "- Scipy\n",
    "\n",
    "## Projects\n",
    "\n",
    "- Cancer detection\n",
    "\n",
    "- Predicting economic trends\n",
    "\n",
    "- Predicting customer churn\n",
    "\n",
    "- Recommendation engines"
   ]
  },
  {
   "attachments": {},
   "cell_type": "markdown",
   "metadata": {},
   "source": [
    "# Introduction to ML\n",
    "\n",
    "Machine learning is the sub-field of computer science that gives computers the ability to learn without being explicitly programmed. Machine learning allows us to build a model that looks at all the feature sets, and their corresponding. Machine learning algorithms inspired by the human learning process allows computers to find hidden insights."
   ]
  },
  {
   "attachments": {},
   "cell_type": "markdown",
   "metadata": {},
   "source": [
    "## Major Machine Learning Techniques\n",
    "\n",
    "- **Regression/Estimation**\n",
    "Predicting continous values\n",
    "\n",
    "- **Classification**\n",
    "Predicting the item class/category of a case\n",
    "\n",
    "- **Clustering**\n",
    "Finding the structure of data; summarization\n",
    "\n",
    "- **Associations**\n",
    "Associating frequent co-occouring items/events\n",
    "\n",
    "- **Anomaly Detection**\n",
    "Discoveering abnormal and unsusual cases\n",
    "\n",
    "- **Sequecne Mining**\n",
    "Prediciting next evnts; click-strem (Markov Model, HMM)\n",
    "\n",
    "- **Dimension Reduction**\n",
    "Reducting the size of data (PCA)\n",
    "\n",
    "- **Recommendation Systems**\n",
    "Recommending items"
   ]
  },
  {
   "attachments": {},
   "cell_type": "markdown",
   "metadata": {},
   "source": [
    "## Difference between AI, Machine Learning, and Deep Learning\n",
    "\n",
    "> **AI Components:**\n",
    "- Computer Visions\n",
    "- Language Processing\n",
    "- Creativity\n",
    "- Et.\n",
    "\n",
    "Tries to make computers intelligent tin order to minic the cognitive functions of humans\n",
    "\n",
    "> **Machine Learning:**\n",
    "- Classification\n",
    "- Clustering\n",
    "- Neural Network\n",
    "- Ect.\n",
    "\n",
    "Branch of AI that covers the statisical part of AI. It teaches the computer to solve problems by looking at many examples.\n",
    "\n",
    "> **Revolution in ML:**\n",
    "- Deep Learning\n",
    "\n",
    "Covers deepr levels of automaiotn in comparison  with most machine learning algorithms"
   ]
  },
  {
   "attachments": {},
   "cell_type": "markdown",
   "metadata": {},
   "source": [
    "# Python for Machine Learning"
   ]
  },
  {
   "attachments": {},
   "cell_type": "markdown",
   "metadata": {},
   "source": [
    "> **NumPy**\n",
    "- Math library to work iwth N-dimensional arrays in Python\n",
    "- Enables efficient and effecitve computaition\n",
    "- Working with arrays, dictionaries, functions, datatypes, and images\n",
    "\n",
    "> **SciPy**\n",
    "- Collection of numerical algorithms and domain specific toolboxes\n",
    "- Signal Processing, Optimization, Statistics, etc.\n",
    "- Good library for scientific and high performance computation\n",
    "\n",
    "> **Matplotlib**\n",
    "- Popluar plotting package that provides 2D plotting and 3D plotting\n",
    "\n",
    "> **Pandas**\n",
    "- Provides hihg performanxae easy to use data structures\n",
    "- FUnctions for data importing, manipulation and analysis\n",
    "- Offers data structures and operations for manipulating numerical tables and timeseries\n",
    "\n",
    "> **Scikit Learn (MAIN FOCUS)**\n",
    "- Collection of algorithms and tools for machine learning"
   ]
  },
  {
   "attachments": {},
   "cell_type": "markdown",
   "metadata": {},
   "source": [
    "## Scikit Learn\n",
    "\n",
    "Free ML libarie for Python programming language\n",
    "\n",
    "- Classification, Regression, and Clustering algorithms\n",
    "- Works with NUmPy and SciPy\n",
    "- Great Documentation\n",
    "- Easy to implement "
   ]
  },
  {
   "attachments": {},
   "cell_type": "markdown",
   "metadata": {},
   "source": [
    "images/scipy.png"
   ]
  },
  {
   "attachments": {},
   "cell_type": "markdown",
   "metadata": {},
   "source": [
    "## Scikit-learn functions\n",
    "\n",
    "ML algorithms benefits form standardization of dataset. If there are some outliers or different scales fields in dataset, fix them. Pre-processing package of SciKit Learn provides several common utility functions and transformer classes to change raw feature vectors into a suitable form of vector for modeling. \n",
    "\n",
    "You have to split dataset into train and test datasets to train model and test model's accuracy seperatly."
   ]
  },
  {
   "cell_type": "code",
   "execution_count": null,
   "metadata": {},
   "outputs": [],
   "source": [
    "from sklearn import preprocessing\n",
    "X = preprocessing.StandardScaler().fit(X).transform(X)"
   ]
  },
  {
   "attachments": {},
   "cell_type": "markdown",
   "metadata": {},
   "source": [
    "Scikit Learn can split arrays or matrices into rand traina nd test subsets in one line of code"
   ]
  },
  {
   "cell_type": "code",
   "execution_count": null,
   "metadata": {},
   "outputs": [],
   "source": [
    "from sklearn.model_selection import train_test_split\n",
    "X_train, X_test, y_train = train_test_split(X, y, test_size=0.33) #the random train and test line"
   ]
  },
  {
   "cell_type": "code",
   "execution_count": null,
   "metadata": {},
   "outputs": [],
   "source": [
    "from sklearn import svm\n",
    "# estimator instance is CLF\n",
    "clf = svm.SVC(gamma=0.001, C=100.)\n",
    "\n",
    "# pass training set to method\n",
    "# clf learns to classify unknown cases\n",
    "clf.fit(X_train, y_train)\n",
    "\n",
    "clf.predict(X_test)"
   ]
  },
  {
   "cell_type": "code",
   "execution_count": null,
   "metadata": {},
   "outputs": [],
   "source": [
    "# can use differen metrics to eval model acuracy ex. using a confusion matric to show results\n",
    "from sklearn.metrics import confusion_matrix\n",
    "print(confusion_matrix(y_test, yhat, labels=[1,0]))"
   ]
  },
  {
   "cell_type": "code",
   "execution_count": null,
   "metadata": {},
   "outputs": [],
   "source": [
    "# save model\n",
    "import pickle\n",
    "s = pickle.dumps(clf)"
   ]
  },
  {
   "attachments": {},
   "cell_type": "markdown",
   "metadata": {},
   "source": [
    "Easy to use the scikit-learn functions to finish all code within a few lines, there will be more lines with NumPy and SciPy packages and it will be much harder to just do straight Python programming."
   ]
  }
 ],
 "metadata": {
  "kernelspec": {
   "display_name": "Python 3",
   "language": "python",
   "name": "python3"
  },
  "language_info": {
   "codemirror_mode": {
    "name": "ipython",
    "version": 3
   },
   "file_extension": ".py",
   "mimetype": "text/x-python",
   "name": "python",
   "nbconvert_exporter": "python",
   "pygments_lexer": "ipython3",
   "version": "3.9.16"
  },
  "orig_nbformat": 4
 },
 "nbformat": 4,
 "nbformat_minor": 2
}
